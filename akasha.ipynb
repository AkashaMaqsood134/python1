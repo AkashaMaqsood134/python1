{
  "nbformat": 4,
  "nbformat_minor": 0,
  "metadata": {
    "colab": {
      "provenance": [],
      "authorship_tag": "ABX9TyOVMmFhiSzA3kdSBhPVOrKn",
      "include_colab_link": true
    },
    "kernelspec": {
      "name": "python3",
      "display_name": "Python 3"
    },
    "language_info": {
      "name": "python"
    }
  },
  "cells": [
    {
      "cell_type": "markdown",
      "metadata": {
        "id": "view-in-github",
        "colab_type": "text"
      },
      "source": [
        "<a href=\"https://colab.research.google.com/github/AkashaMaqsood134/python1/blob/master/akasha.ipynb\" target=\"_parent\"><img src=\"https://colab.research.google.com/assets/colab-badge.svg\" alt=\"Open In Colab\"/></a>"
      ]
    },
    {
      "cell_type": "code",
      "execution_count": null,
      "metadata": {
        "colab": {
          "base_uri": "https://localhost:8080/",
          "height": 35
        },
        "id": "5baxX4k-ofVA",
        "outputId": "7df5768f-e3e8-4b3e-a128-4b23c61a5f3d"
      },
      "outputs": [
        {
          "output_type": "execute_result",
          "data": {
            "text/plain": [
              "'Hello world'"
            ],
            "application/vnd.google.colaboratory.intrinsic+json": {
              "type": "string"
            }
          },
          "metadata": {},
          "execution_count": 1
        }
      ],
      "source": [
        "\"Hello world\""
      ]
    },
    {
      "cell_type": "code",
      "source": [
        "\"Hello world1\"\n",
        "\"Hello world2\""
      ],
      "metadata": {
        "colab": {
          "base_uri": "https://localhost:8080/",
          "height": 35
        },
        "id": "PRwrw5ospTff",
        "outputId": "9a2596e5-9ec4-4b0b-9c5d-5070fb9aab6c"
      },
      "execution_count": null,
      "outputs": [
        {
          "output_type": "execute_result",
          "data": {
            "text/plain": [
              "'Hello world2'"
            ],
            "application/vnd.google.colaboratory.intrinsic+json": {
              "type": "string"
            }
          },
          "metadata": {},
          "execution_count": 2
        }
      ]
    },
    {
      "cell_type": "code",
      "source": [
        "print(\"Hello World1\")\n",
        "print(\"Hello world2\")"
      ],
      "metadata": {
        "colab": {
          "base_uri": "https://localhost:8080/"
        },
        "id": "XlfkYmi3pcO2",
        "outputId": "d0fd30ac-ceb5-4348-d0d7-88fab12fdece"
      },
      "execution_count": null,
      "outputs": [
        {
          "output_type": "stream",
          "name": "stdout",
          "text": [
            "Hello World1\n",
            "Hello world2\n"
          ]
        }
      ]
    },
    {
      "cell_type": "code",
      "source": [],
      "metadata": {
        "id": "WvTnzUVapjmO"
      },
      "execution_count": null,
      "outputs": []
    },
    {
      "cell_type": "code",
      "source": [
        "a= 2\n",
        "b=5\n",
        "a, b = b, a\n",
        "\n",
        "print(a)\n",
        "print(b)"
      ],
      "metadata": {
        "colab": {
          "base_uri": "https://localhost:8080/"
        },
        "id": "EPRZDm8YpqBR",
        "outputId": "aed7962b-f7e5-4dd5-c865-3f6bbfa0a993"
      },
      "execution_count": null,
      "outputs": [
        {
          "output_type": "stream",
          "name": "stdout",
          "text": [
            "5\n",
            "2\n"
          ]
        }
      ]
    },
    {
      "cell_type": "code",
      "source": [
        "#list, tuple, dict, sets\n",
        "\n",
        "import random\n",
        "\n",
        "customer_names = [\n",
        "    \"Aisha Khan\", \"Ali Ahmed\", \"Fatima Malik\", \"Hassan Shah\", \"Zara Abbas\",\n",
        "    \"Amir Khan\", \"Sadia Ali\", \"Ahmed Siddiqui\", \"Sana Malik\", \"Bilal Khan\",\n",
        "    \"Ayesha Ahmed\", \"Imran Qureshi\", \"Hina Mahmood\", \"Fahad Raza\", \"Bushra Haider\",\n",
        "    \"Farhan Mahmood\", \"Amina Ali\", \"Usman Khan\", \"Sara Malik\", \"Arif Ahmed\",\n",
        "    \"Nazia Khan\", \"Kamran Shah\", \"Mehwish Ali\", \"Yasir Khan\", \"Mariam Ahmed\",\n",
        "    \"Saad Malik\", \"Rabia Shah\", \"Adnan Khan\", \"Mahnoor Siddiqui\", \"Noman Ahmed\",\n",
        "    \"Zainab Malik\", \"Waqas Khan\", \"Sadaf Khan\", \"Rizwan Ali\", \"Saba Ahmed\",\n",
        "    \"Kashif Mahmood\", \"Fiza Khan\", \"Danish Siddiqui\", \"Natasha Malik\", \"Junaid Shah\",\n",
        "    \"Farah Ali\", \"Asim Khan\", \"Sumaira Ahmed\", \"Aliya Khan\", \"Faizan Malik\",\n",
        "    \"Sidra Raza\", \"Talha Ahmed\", \"Ayesha Khan\", \"Azhar Ali\", \"Saira Malik\",\n",
        "    \"Shahid Khan\", \"Nazia Ahmed\", \"Salman Siddiqui\", \"Nida Khan\", \"Zohaib Ahmed\",\n",
        "    \"Noreen Shah\", \"Rizwan Malik\", \"Aneela Ahmed\", \"Fahad Khan\", \"Huma Siddiqui\",\n",
        "    \"Arsalan Ahmed\", \"Maham Khan\", \"Shoaib Malik\", \"Fariha Shah\", \"Saqib Ali\",\n",
        "    \"Amna Khan\", \"Bilal Ahmed\", \"Aisha Siddiqui\", \"Umair Khan\", \"Samina Ali\",\n",
        "    \"Imtiaz Ahmed\", \"Sehrish Malik\", \"Tariq Shah\", \"Mariyam Ahmed\", \"Danish Khan\",\n",
        "    \"Rabia Siddiqui\", \"Asad Malik\", \"Hira Ahmed\", \"Usman Siddiqui\", \"Ayesha Malik\",\n",
        "    \"Shehzad Khan\", \"Maria Ahmed\", \"Saifullah Shah\", \"Saima Ali\", \"Kamran Ahmed\",\n",
        "    \"Nazia Siddiqui\", \"Salman Khan\", \"Sara Ahmed\", \"Farooq Malik\", \"Aqsa Khan\",\n",
        "    \"Nabeel Ahmed\", \"Shazia Malik\", \"Nadeem Shah\", \"Hina Ali\", \"Arif Khan\",\n",
        "    \"Zainab Ahmed\", \"Muzaffar Siddiqui\", \"Sana Khan\", \"Abdullah Ahmed\", \"Kainat Malik\"\n",
        "]\n",
        "\n",
        "# Choosing a name randomly\n",
        "random_name = random.choice(customer_names)\n",
        "print(\"Randomly chosen name:\", random_name)\n"
      ],
      "metadata": {
        "colab": {
          "base_uri": "https://localhost:8080/"
        },
        "id": "lGKigZlgp9KU",
        "outputId": "5ad4624a-647b-4f80-8597-4e92c17acc94"
      },
      "execution_count": null,
      "outputs": [
        {
          "output_type": "stream",
          "name": "stdout",
          "text": [
            "Randomly chosen name: Danish Khan\n"
          ]
        }
      ]
    },
    {
      "cell_type": "code",
      "source": [
        "import random\n",
        "\n",
        "customer_names = [\n",
        "    \"Aisha Khan\", \"Ali Ahmed\", \"Fatima Malik\", \"Hassan Shah\", \"Zara Abbas\",\n",
        "    \"Amir Khan\", \"Sadia Ali\", \"Ahmed Siddiqui\", \"Sana Malik\", \"Bilal Khan\",\n",
        "    \"Ayesha Ahmed\", \"Imran Qureshi\", \"Hina Mahmood\", \"Fahad Raza\", \"Bushra Haider\",\n",
        "    \"Farhan Mahmood\", \"Amina Ali\", \"Usman Khan\", \"Sara Malik\", \"Arif Ahmed\",\n",
        "    \"Nazia Khan\", \"Kamran Shah\", \"Mehwish Ali\", \"Yasir Khan\", \"Mariam Ahmed\",\n",
        "    \"Saad Malik\", \"Rabia Shah\", \"Adnan Khan\", \"Mahnoor Siddiqui\", \"Noman Ahmed\",\n",
        "    \"Zainab Malik\", \"Waqas Khan\", \"Sadaf Khan\", \"Rizwan Ali\", \"Saba Ahmed\",\n",
        "    \"Kashif Mahmood\", \"Fiza Khan\", \"Danish Siddiqui\", \"Natasha Malik\", \"Junaid Shah\",\n",
        "    \"Farah Ali\", \"Asim Khan\", \"Sumaira Ahmed\", \"Aliya Khan\", \"Faizan Malik\",\n",
        "    \"Sidra Raza\", \"Talha Ahmed\", \"Ayesha Khan\", \"Azhar Ali\", \"Saira Malik\",\n",
        "    \"Shahid Khan\", \"Nazia Ahmed\", \"Salman Siddiqui\", \"Nida Khan\", \"Zohaib Ahmed\",\n",
        "    \"Noreen Shah\", \"Rizwan Malik\", \"Aneela Ahmed\", \"Fahad Khan\", \"Huma Siddiqui\",\n",
        "    \"Arsalan Ahmed\", \"Maham Khan\", \"Shoaib Malik\", \"Fariha Shah\", \"Saqib Ali\",\n",
        "    \"Amna Khan\", \"Bilal Ahmed\", \"Aisha Siddiqui\", \"Umair Khan\", \"Samina Ali\",\n",
        "    \"Imtiaz Ahmed\", \"Sehrish Malik\", \"Tariq Shah\", \"Mariyam Ahmed\", \"Danish Khan\",\n",
        "    \"Rabia Siddiqui\", \"Asad Malik\", \"Hira Ahmed\", \"Usman Siddiqui\", \"Ayesha Malik\",\n",
        "    \"Shehzad Khan\", \"Maria Ahmed\", \"Saifullah Shah\", \"Saima Ali\", \"Kamran Ahmed\",\n",
        "    \"Nazia Siddiqui\", \"Salman Khan\", \"Sara Ahmed\", \"Farooq Malik\", \"Aqsa Khan\",\n",
        "    \"Nabeel Ahmed\", \"Shazia Malik\", \"Nadeem Shah\", \"Hina Ali\", \"Arif Khan\",\n",
        "    \"Zainab Ahmed\", \"Muzaffar Siddiqui\", \"Sana Khan\", \"Abdullah Ahmed\", \"Kainat Malik\"\n",
        "]\n",
        "\n",
        "# Generating five random names\n",
        "random_names = random.sample(customer_names, 5)\n",
        "print(\"Randomly generated names:\")\n",
        "for name in random_names:\n",
        "    print(name)\n"
      ],
      "metadata": {
        "colab": {
          "base_uri": "https://localhost:8080/"
        },
        "id": "bvC2VFQRsxRO",
        "outputId": "41fb00ac-cfd5-4e14-f6ce-c58f55415b27"
      },
      "execution_count": null,
      "outputs": [
        {
          "output_type": "stream",
          "name": "stdout",
          "text": [
            "Randomly generated names:\n",
            "Sehrish Malik\n",
            "Usman Khan\n",
            "Arif Khan\n",
            "Ali Ahmed\n",
            "Fahad Raza\n"
          ]
        }
      ]
    },
    {
      "cell_type": "code",
      "source": [
        "type(\"\"\"Akasha\"\"\") # '''Akasha''' , \"Akasha\" act as str"
      ],
      "metadata": {
        "colab": {
          "base_uri": "https://localhost:8080/"
        },
        "id": "n9rPcYEjs-7f",
        "outputId": "2e376b36-cc87-448c-c419-fba722d89f14"
      },
      "execution_count": null,
      "outputs": [
        {
          "output_type": "execute_result",
          "data": {
            "text/plain": [
              "str"
            ]
          },
          "metadata": {},
          "execution_count": 8
        }
      ]
    },
    {
      "cell_type": "code",
      "source": [
        "type(2+3j)"
      ],
      "metadata": {
        "colab": {
          "base_uri": "https://localhost:8080/"
        },
        "id": "UHkcPfqytlCZ",
        "outputId": "65d4311d-65c1-4373-c011-3291bd3b23c9"
      },
      "execution_count": null,
      "outputs": [
        {
          "output_type": "execute_result",
          "data": {
            "text/plain": [
              "complex"
            ]
          },
          "metadata": {},
          "execution_count": 10
        }
      ]
    },
    {
      "cell_type": "code",
      "source": [
        "# list (add duplicates, all data types)\n",
        "a= [60, 7.9, 60, 'Akasha']\n",
        "a[3]\n",
        "type(a[2])\n",
        "for item in a:\n",
        "   print(item)"
      ],
      "metadata": {
        "colab": {
          "base_uri": "https://localhost:8080/"
        },
        "id": "YahhHG17t7Ms",
        "outputId": "1b107799-e37f-47dd-c4b7-f15002da9e16"
      },
      "execution_count": null,
      "outputs": [
        {
          "output_type": "stream",
          "name": "stdout",
          "text": [
            "60\n",
            "7.9\n",
            "60\n",
            "Akasha\n"
          ]
        }
      ]
    },
    {
      "cell_type": "code",
      "source": [
        "   i =0\n",
        "   while i <len(a):\n",
        "     print(a[i])\n",
        "     i= i+1"
      ],
      "metadata": {
        "colab": {
          "base_uri": "https://localhost:8080/"
        },
        "id": "MW-4t0fcvViA",
        "outputId": "8d76aa54-5a48-4523-e7f8-4d70ed46adbe"
      },
      "execution_count": null,
      "outputs": [
        {
          "output_type": "stream",
          "name": "stdout",
          "text": [
            "60\n",
            "7.9\n",
            "60\n",
            "Akasha\n"
          ]
        }
      ]
    },
    {
      "cell_type": "code",
      "source": [
        "list (range(len(a)))\n",
        "[0,1,2,3]\n",
        "\n",
        "for i in range (len(a)):\n",
        "  print(a(i))\n",
        "  i= i+1"
      ],
      "metadata": {
        "colab": {
          "base_uri": "https://localhost:8080/",
          "height": 193
        },
        "id": "BPRxlaUdvmsv",
        "outputId": "fb2f0cae-b7fb-49a4-863e-6fbd3baa1582"
      },
      "execution_count": null,
      "outputs": [
        {
          "output_type": "error",
          "ename": "TypeError",
          "evalue": "'list' object is not callable",
          "traceback": [
            "\u001b[0;31m---------------------------------------------------------------------------\u001b[0m",
            "\u001b[0;31mTypeError\u001b[0m                                 Traceback (most recent call last)",
            "\u001b[0;32m<ipython-input-32-dc5947699662>\u001b[0m in \u001b[0;36m<cell line: 4>\u001b[0;34m()\u001b[0m\n\u001b[1;32m      3\u001b[0m \u001b[0;34m\u001b[0m\u001b[0m\n\u001b[1;32m      4\u001b[0m \u001b[0;32mfor\u001b[0m \u001b[0mi\u001b[0m \u001b[0;32min\u001b[0m \u001b[0mrange\u001b[0m \u001b[0;34m(\u001b[0m\u001b[0mlen\u001b[0m\u001b[0;34m(\u001b[0m\u001b[0ma\u001b[0m\u001b[0;34m)\u001b[0m\u001b[0;34m)\u001b[0m\u001b[0;34m:\u001b[0m\u001b[0;34m\u001b[0m\u001b[0;34m\u001b[0m\u001b[0m\n\u001b[0;32m----> 5\u001b[0;31m   \u001b[0mprint\u001b[0m\u001b[0;34m(\u001b[0m\u001b[0ma\u001b[0m\u001b[0;34m(\u001b[0m\u001b[0mi\u001b[0m\u001b[0;34m)\u001b[0m\u001b[0;34m)\u001b[0m\u001b[0;34m\u001b[0m\u001b[0;34m\u001b[0m\u001b[0m\n\u001b[0m\u001b[1;32m      6\u001b[0m   \u001b[0mi\u001b[0m\u001b[0;34m=\u001b[0m \u001b[0mi\u001b[0m\u001b[0;34m+\u001b[0m\u001b[0;36m1\u001b[0m\u001b[0;34m\u001b[0m\u001b[0;34m\u001b[0m\u001b[0m\n",
            "\u001b[0;31mTypeError\u001b[0m: 'list' object is not callable"
          ]
        }
      ]
    },
    {
      "cell_type": "code",
      "source": [
        "#set (unordered collection of unique elements)\n",
        "s= set(a)\n",
        "s\n",
        "\n",
        "for i in s:\n",
        "  print(i)"
      ],
      "metadata": {
        "colab": {
          "base_uri": "https://localhost:8080/"
        },
        "id": "9FAUqXfhw4DS",
        "outputId": "94d84ce1-f570-49d4-cfca-b166a2f8d359"
      },
      "execution_count": null,
      "outputs": [
        {
          "output_type": "stream",
          "name": "stdout",
          "text": [
            "Akasha\n",
            "60\n",
            "7.9\n"
          ]
        }
      ]
    },
    {
      "cell_type": "code",
      "source": [
        "t = (2, 4) #ordered collection\n",
        "type(t)\n",
        "\n",
        "for i in t:\n",
        "   print(i)\n",
        "\n",
        "a[0], a[1] = a[1] , a[0]  #swap\n"
      ],
      "metadata": {
        "colab": {
          "base_uri": "https://localhost:8080/"
        },
        "id": "4kNoIKPXx6DS",
        "outputId": "a135e9f8-740d-46a5-92e2-6bae44b12f77"
      },
      "execution_count": null,
      "outputs": [
        {
          "output_type": "stream",
          "name": "stdout",
          "text": [
            "2\n",
            "4\n"
          ]
        }
      ]
    },
    {
      "cell_type": "code",
      "source": [
        "if 5 > 2:\n",
        " print(\"Five is greater than two!\")\n",
        "else:\n",
        " print(\"Five is greater than two!\")"
      ],
      "metadata": {
        "colab": {
          "base_uri": "https://localhost:8080/"
        },
        "id": "zFghAN6zzNo1",
        "outputId": "d25575e9-514d-4ceb-ce06-0927aa5b1bba"
      },
      "execution_count": null,
      "outputs": [
        {
          "output_type": "stream",
          "name": "stdout",
          "text": [
            "Five is greater than two!\n"
          ]
        }
      ]
    }
  ]
}